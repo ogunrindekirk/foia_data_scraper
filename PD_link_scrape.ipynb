{
 "cells": [
  {
   "cell_type": "code",
   "execution_count": 3,
   "metadata": {},
   "outputs": [],
   "source": [
    "import requests\n",
    "from bs4 import BeautifulSoup\n",
    "from urllib.parse import urljoin, urlparse\n",
    "import pandas as pd"
   ]
  },
  {
   "cell_type": "code",
   "execution_count": 14,
   "metadata": {},
   "outputs": [],
   "source": [
    "# get url using requests, then store it and use as a string \"response.text\"\n",
    "\n",
    "url_list = ['https://www.justice.gov/ust/foia-privacy-act/foia-library', 'https://www.justice.gov/interpol-washington/foia-library', 'https://www.justice.gov/oip/available-documents-oip']\n",
    "# pass into parser\n",
    "\n"
   ]
  },
  {
   "cell_type": "code",
   "execution_count": 34,
   "metadata": {},
   "outputs": [
    {
     "name": "stdout",
     "output_type": "stream",
     "text": [
      "['/eoir/page/file/1242166/download', '/eoir/page/file/1060841/download', '/eoir/page/file/1530261/download', '/eoir/page/file/1256086/download', '/eoir/page/file/1105111/download', '/eoir/page/file/1436791/download', '/eoir/page/file/1104856/download', '/eoir/page/file/1112996/download', '/eoir/page/file/1062971/download', '/eoir/page/file/1062976/download', '/eoir/page/file/1248491/download', '/eoir/page/file/1107366/download', '/eoir/page/file/1111476/download', '/eoir/page/file/1160866/download', '/eoir/page/file/1106366/download', '/eoir/page/file/1163611/download', '/eoir/page/file/1163616/download', '/eoir/page/file/1163621/download', '/eoir/page/file/1163626/download', '/eoir/page/file/1163631/download', '/eoir/page/file/1243496/download', '/eoir/page/file/1107716/download', '/eoir/page/file/1116666/download', '/eoir/page/file/1107711/download', '/eoir/page/file/1153866/download', '/eoir/page/file/1242156/download', '/eoir/page/file/1248526/download', '/eoir/page/file/1104851/download', '/eoir/page/file/1060896/download', '/eoir/page/file/1062991/download', '/eoir/page/file/1508521/download', '/eoir/page/file/1060871/download', '/eoir/page/file/1061551/download', '/eoir/page/file/1083086/download', '/eoir/page/file/1078571/download', '/eoir/page/file/1508566/download', '/eoir/page/file/1083086/download', '/eoir/page/file/1508571/download', '/eoir/page/file/1243346/download', '/eoir/page/file/1248501/download', '/eoir/page/file/1248506/download', '/eoir/page/file/1199211/download', '/eoir/page/file/1508576/download', '/eoir/page/file/1279601/download']\n"
     ]
    }
   ],
   "source": [
    "# pdf_links = []\n",
    "# # find all hyperlinks on webpage\n",
    "# links = soup.find_all('a')\n",
    "# for link in links:\n",
    "#     # retrieve URL value\n",
    "#     href = link.get('href')\n",
    "#     #print(href)\n",
    "#     if href and href.endswith('download'):\n",
    "#         pdf_links.append(href)\n",
    "#     #if urlparse(href).scheme in ('http', 'https'):\n",
    "#     #    response = requests.head(href)\n",
    "#     #    content_type = response.headers.get('Content-Type')\n",
    "\n",
    "# print (pdf_links)\n",
    " "
   ]
  },
  {
   "cell_type": "code",
   "execution_count": 13,
   "metadata": {},
   "outputs": [
    {
     "name": "stdout",
     "output_type": "stream",
     "text": [
      "['\\u200bVolume\\xa01', 'Volume 2', 'Appendices', 'Attorney General Holder’s Memorandum for Heads of Executive Departments and Agencies Concerning the Freedom of Information Act', 'Attorney General Reno’s Memorandum for Heads of Departments and Agencies Concerning the Freedom of Information Act', 'Attorney General Smith’s Memorandum for Heads of all Federal Departments and Agencies Concerning the Freedom of Information Act', 'Department Press Release Announcing Attorney General Smith’s FOIA Memorandum', 'Attorney General Bell’s Letter to Heads of all Federal Departments and Agencies Concerning the Freedom of Information Act', 'Interim Policy for Drug Enforcement Administration Body-Worn Camera Program.pdf (dea.gov)']\n",
      "['/storage/report_volume1.pdf', '/storage/report_volume2.pdf', '/storage/report_appendices.pdf', '/ag/foia-memo-march2009.pdf', '/oip/docs/ag-reno-memo-foia.pdf', '/oip/docs/ag-smith-memo-foia.pdf', '/oip/docs/departmental-pr-re-ag-smith-memo.pdf', '/oip/docs/ag-bell-ltr-foia.pdf', 'https://www.dea.gov/sites/default/files/2022-08/Interim%20Policy%20for%20Drug%20Enforcement%20Administration%20Body-Worn%20Camera%20Program.pdf']\n"
     ]
    }
   ],
   "source": [
    "# # Supported file extensions\n",
    "# supported_extensions = ['.pdf', '.csv', '.xlsx']\n",
    "\n",
    "# # Find all hyperlinks on the webpage\n",
    "# links = soup.find_all('a')\n",
    "# pdf_links = []\n",
    "# titles = []\n",
    "# # Iterate over each link\n",
    "# for link in links:\n",
    "#     href = link.get('href')\n",
    "#     if href:\n",
    "#         # Check if the link ends with a supported file extension\n",
    "#         if any(href.endswith(ext) for ext in supported_extensions):\n",
    "#             # Retrieve the document title\n",
    "#             title = link.text.strip()\n",
    "#             # Get the absolute URL of the document\n",
    "#             pdf_links.append(href)\n",
    "#             titles.append(title)\n",
    "#             # Add the title and URL to the result\n",
    "# print(titles)\n",
    "# print(pdf_links)"
   ]
  },
  {
   "cell_type": "code",
   "execution_count": 15,
   "metadata": {},
   "outputs": [],
   "source": [
    "pdf_links = []\n",
    "data = {\"Title\": [], \"URL\": []}\n",
    "for url in url_list:\n",
    "    response = requests.get(url)\n",
    "    soup = BeautifulSoup(response.text, 'html.parser')\n",
    "    links = soup.find_all('a') # stores all links on webpage\n",
    "    for link in links:\n",
    "        href = link.get('href') # stores the url the link anchors to\n",
    "        if href:\n",
    "            \n",
    "            if urlparse(href).scheme: # check to see if complete url\n",
    "                absolute_url = href\n",
    "                \n",
    "            else:\n",
    "                absolute_url = urljoin(url, href) # add url if href is local\n",
    "                \n",
    "            if absolute_url[0] == 'h': # ensure valid url \n",
    "                # append url if it is a downloadable using headers 'content-type' \n",
    "                response = requests.head(absolute_url)\n",
    "                content_type = response.headers.get(\"Content-Type\")\n",
    "                if content_type and \"application\" in content_type:\n",
    "                    pdf_links.append(absolute_url)\n",
    "                    title = link.get_text(strip=True)\n",
    "                    data[\"Title\"].append(title)\n",
    "                    data[\"URL\"].append(absolute_url)\n",
    "if data: \n",
    "    df = pd.DataFrame(data)\n",
    "    df.to_csv(\"frd_scrape8.csv\", index=False)\n",
    "    df.to_excel(\"frd_scrape8.xlsx\", index=False)\n",
    "        \n"
   ]
  }
 ],
 "metadata": {
  "kernelspec": {
   "display_name": "Python 3",
   "language": "python",
   "name": "python3"
  },
  "language_info": {
   "codemirror_mode": {
    "name": "ipython",
    "version": 3
   },
   "file_extension": ".py",
   "mimetype": "text/x-python",
   "name": "python",
   "nbconvert_exporter": "python",
   "pygments_lexer": "ipython3",
   "version": "3.7.3"
  },
  "orig_nbformat": 4
 },
 "nbformat": 4,
 "nbformat_minor": 2
}
